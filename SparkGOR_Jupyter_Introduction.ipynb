{
  "nbformat": 4,
  "nbformat_minor": 0,
  "metadata": {
    "colab": {
      "name": "SparkGOR: Jupyter Introduction.ipynb",
      "provenance": [],
      "include_colab_link": true
    },
    "kernelspec": {
      "name": "python3",
      "display_name": "Python 3"
    }
  },
  "cells": [
    {
      "cell_type": "markdown",
      "metadata": {
        "id": "view-in-github",
        "colab_type": "text"
      },
      "source": [
        "<a href=\"https://colab.research.google.com/github/sigmarkarl/notebooks/blob/main/SparkGOR_Jupyter_Introduction.ipynb\" target=\"_parent\"><img src=\"https://colab.research.google.com/assets/colab-badge.svg\" alt=\"Open In Colab\"/></a>"
      ]
    },
    {
      "cell_type": "markdown",
      "metadata": {
        "id": "_S-tHWZ4Ien5"
      },
      "source": [
        "# Introduction to Spark + GOR\n",
        "\n",
        "This notebook gives an introduction to the integration of Spark and GOR using the Google Colab environment. To use this notebook in a meaningful way, you will need to have access to some data in the GOR format, such as the reference data available as part of the GOR Open Source project. \n",
        "\n",
        "This notebook can be run in one of two ways:\n",
        "\n",
        "* Connect to a hosted Jupyter runtime with Google Drive\n",
        "* Connect to a local Jupyter runtime with local file storage\n",
        "\n",
        "For the purposes of this demonstration, we will be using a local Jupyter runtime, which is setup as described on the following page: https://research.google.com/colaboratory/local-runtimes.html\n",
        "\n"
      ]
    },
    {
      "cell_type": "markdown",
      "metadata": {
        "id": "zF8H7T9CX50o"
      },
      "source": [
        "## Initial setup\n",
        "\n",
        "In order to run the examples that are outlined in this notebook, you must first install pyspark and numpy locally using your package manager. For example, if you use pip to install Python packages, you can use the following commands to install the necessary packages:"
      ]
    },
    {
      "cell_type": "code",
      "source": [
        "!pip install hail\n",
        "!pip install pyspark #==3.2.0\n",
        "!pip install gor_pyspark"
      ],
      "metadata": {
        "id": "Cbq_bBzxur7k"
      },
      "execution_count": null,
      "outputs": []
    },
    {
      "cell_type": "markdown",
      "source": [
        "It is advisable to do this before running your local Jupyter server so that the modules will be available to you in the Jupyter environment.\n",
        "\n",
        "You should also ensure that the Jupyter server is using Python 3 because of dependencies needed by pyspark. An example is shown here:"
      ],
      "metadata": {
        "id": "lXMa0ux2us1v"
      }
    },
    {
      "cell_type": "code",
      "source": [
        "export PYSPARK_PYTHON=/usr/local/bin/python3"
      ],
      "metadata": {
        "id": "gdFMPuX0utBW"
      },
      "execution_count": null,
      "outputs": []
    },
    {
      "cell_type": "markdown",
      "metadata": {
        "id": "rsoSD_y9kcSh"
      },
      "source": [
        "## Hosted Jupyter runtime\n",
        "\n",
        "It is also possible to connect to a hosted Jupyter server by selecting **Connect to hosted runtime** in the dropdown menu at the top of this page. Keep in mind that the memory settings for this method are limited to what is made available by the Google Colab environment. These settings should be sufficient to run any of the examples here.\n",
        "\n",
        "The files are shared at the following location: https://drive.google.com/drive/folders/1lM6YKPZIexb_1D8pk6KnVd5AXn0Jp0ek if you wish to use this method.\n",
        "\n",
        "You will need to set up the files within your Google Drive. Note that the necessary files for the examples are over the free limit for Drive and you will need to have a higher storage limit.\n",
        "\n",
        "Use the following code block to mount the Google Drive and make the folder accessible to the hosted runtime.\n"
      ]
    },
    {
      "cell_type": "code",
      "metadata": {
        "id": "PQUYxQDgmtFQ",
        "outputId": "92cf0a94-7fdf-4bc2-d8be-a700ab0c18c8",
        "colab": {
          "base_uri": "https://localhost:8080/"
        }
      },
      "source": [
        "# Mount Google Drive\n",
        "from google.colab import drive\n",
        "drive.mount('/content/drive')"
      ],
      "execution_count": null,
      "outputs": [
        {
          "output_type": "stream",
          "text": [
            "Drive already mounted at /content/drive; to attempt to forcibly remount, call drive.mount(\"/content/drive\", force_remount=True).\n"
          ],
          "name": "stdout"
        }
      ]
    },
    {
      "cell_type": "markdown",
      "metadata": {
        "id": "ohmHx-yNmQUd"
      },
      "source": [
        "## Setting up the reference data and PheCode\n",
        "\n",
        "To install and run a local Jupyter server, please follow the instructions on this page: https://research.google.com/colaboratory/local-runtimes.html\n",
        "\n",
        "You must also download the reference data and PheCode files as outlined on the following sections of the GOR open source project: \n",
        "\n",
        "* [Set up the reference data](https://github.com/gorpipe/gor#setting-up-reference-data-optional)\n",
        "* [Set up the PheCode GWAS data](https://github.com/gorpipe/gor#setting-up-phecode-gwas-data-optional)\n",
        "\n",
        "When you start your local Jupyter server, make sure to start it from within the folder where you have put your reference data files. Otherwise, you may need to edit the paths in the examples below."
      ]
    },
    {
      "cell_type": "code",
      "source": [
        "!find ~ -name \"guava*.jar\""
      ],
      "metadata": {
        "id": "AKVI_JhI1onp",
        "outputId": "20f45819-5d6c-4f37-8945-5f17922b8365",
        "colab": {
          "base_uri": "https://localhost:8080/"
        }
      },
      "execution_count": 5,
      "outputs": [
        {
          "output_type": "stream",
          "name": "stdout",
          "text": [
            "/root/.ivy2/cache/com.google.guava/guava/bundles/guava-31.0.1-jre.jar\n"
          ]
        }
      ]
    },
    {
      "cell_type": "code",
      "source": [
        "!mv /usr/local/lib/python3.7/dist-packages/pyspark/jars/guava-14.0.1.jar /tmp\n",
        "!cp /root/.ivy2/cache/com.google.guava/guava/bundles/guava-31.0.1-jre.jar /usr/local/lib/python3.7/dist-packages/pyspark/jars/\n",
        "#!mv /tmp/guava-14.0.1.jar /usr/local/lib/python3.7/dist-packages/pyspark/jars/"
      ],
      "metadata": {
        "id": "1xa3Y0sw4yy8",
        "outputId": "a7d31d35-d353-4568-ad05-d82b6c948bb4",
        "colab": {
          "base_uri": "https://localhost:8080/"
        }
      },
      "execution_count": 2,
      "outputs": [
        {
          "output_type": "stream",
          "name": "stdout",
          "text": [
            "mv: cannot stat '/usr/local/lib/python3.7/dist-packages/pyspark/jars/guava-14.0.1.jar': No such file or directory\n"
          ]
        }
      ]
    },
    {
      "cell_type": "code",
      "metadata": {
        "id": "yEL1VPsoOf57"
      },
      "source": [
        "# Setting config variables for the PySpark session\n",
        "\n",
        "#spark.stop()\n",
        "#import pkg_resources\n",
        "#pkg_resources.require(\"pyspark==3.2.0\")\n",
        "from pyspark.sql import SparkSession\n",
        "spark = SparkSession.builder.master(\"local[*]\") \\\n",
        "          .appName(\"SparkGOR demo\") \\\n",
        "          .config(\"spark.jars.packages\",\"com.google.cloud.bigdataoss:gcs-connector:hadoop3-2.2.4\") \\\n",
        "          .config(\"spark.jars.excludes\",\"org.apache.hive:hive-exec,net.sourceforge.f2j:arpack_combined_all,org.apache.avro:avro-mapred\") \\\n",
        "          .config(\"spark.jars\",\"/usr/local/lib/python3.7/dist-packages/hail/backend/hail-all-spark.jar\") \\\n",
        "          .config(\"spark.sql.execution.arrow.pyspark.enabled\",\"true\") \\\n",
        "          .config(\"spark.sql.execution.arrow.pyspark.fallback.enabled\",\"false\") \\\n",
        "          .config(\"spark.serializer\", \"org.apache.spark.serializer.KryoSerializer\") \\\n",
        "          .config(\"spark.kryo.registrator\", \"is.hail.kryo.HailKryoRegistrator\") \\\n",
        "          .config(\"spark.hadoop.fs.AbstractFileSystem.gs.impl\",\"com.google.cloud.hadoop.fs.gcs.GoogleHadoopFS\") \\\n",
        "          .getOrCreate()\n",
        "\n",
        "          #.config(\"spark.jars.packages\",\"org.gorpipe:gor-spark:3.19.0,com.google.cloud.bigdataoss:gcs-connector:hadoop3-2.2.4\") \\\n",
        "\n",
        "# For lower spec computers, the following additional config variable may be necessary (append to the config variables above):\n",
        "#config(\"spark.driver.memory\",\"8g\").config(\"spark.executor.memory\",\"8g\")"
      ],
      "execution_count": 3,
      "outputs": []
    },
    {
      "cell_type": "code",
      "source": [
        "spark._jsc.hadoopConfiguration().set('fs.gs.impl', 'com.google.cloud.hadoop.fs.gcs.GoogleHadoopFileSystem')\n",
        "# This is required if you are using service account and set true, \n",
        "#spark._jsc.hadoopConfiguration().set('fs.gs.auth.service.account.enable', 'true')\n",
        "#spark._jsc.hadoopConfiguration().set('google.cloud.auth.service.account.json.keyfile', \"/path/to/keyfile\")\n",
        "# Following are required if you are using oAuth\n",
        "#spark._jsc.hadoopConfiguration().set('fs.gs.auth.client.id', 'YOUR_OAUTH_CLIENT_ID')\n",
        "#spark._jsc.hadoopConfiguration().set('fs.gs.auth.client.secret', 'OAUTH_SECRET')"
      ],
      "metadata": {
        "id": "_C7Gg1LH4P9C"
      },
      "execution_count": 4,
      "outputs": []
    },
    {
      "cell_type": "code",
      "source": [
        "df = spark.read.load(\"gs://ukbb-exome-public/300k/results/results.mt\")"
      ],
      "metadata": {
        "id": "qPeacncJ3ZwZ"
      },
      "execution_count": null,
      "outputs": []
    },
    {
      "cell_type": "code",
      "source": [
        "import hail as hl\n",
        "hl.init(sc=spark.sparkContext)"
      ],
      "metadata": {
        "id": "-k71HGVM26UM",
        "outputId": "997b38cb-6562-48a2-cdc7-38a39398e7b7",
        "colab": {
          "base_uri": "https://localhost:8080/"
        }
      },
      "execution_count": 5,
      "outputs": [
        {
          "output_type": "stream",
          "name": "stderr",
          "text": [
            "pip-installed Hail requires additional configuration options in Spark referring\n",
            "  to the path to the Hail Python module directory HAIL_DIR,\n",
            "  e.g. /path/to/python/site-packages/hail:\n",
            "    spark.jars=HAIL_DIR/backend/hail-all-spark.jar\n",
            "    spark.driver.extraClassPath=HAIL_DIR/backend/hail-all-spark.jar\n",
            "    spark.executor.extraClassPath=./hail-all-spark.jarRunning on Apache Spark version 3.1.2\n",
            "SparkUI available at http://7209ab1350dc:4040\n",
            "Welcome to\n",
            "     __  __     <>__\n",
            "    / /_/ /__  __/ /\n",
            "   / __  / _ `/ / /\n",
            "  /_/ /_/\\_,_/_/_/   version 0.2.81-edeb70bc789c\n",
            "LOGGING: writing to /content/hail-20220113-1934-0.2.81-edeb70bc789c.log\n"
          ]
        }
      ]
    },
    {
      "cell_type": "code",
      "source": [
        "mt = hl.read_matrix_table(\"gs://ukbb-exome-public/300k/results/results.mt\")"
      ],
      "metadata": {
        "id": "3H_JxkLz3BDs",
        "outputId": "5a680856-83e6-4ce0-db3c-625b0c73a9a5",
        "colab": {
          "base_uri": "https://localhost:8080/",
          "height": 1000
        }
      },
      "execution_count": 6,
      "outputs": [
        {
          "output_type": "error",
          "ename": "FatalError",
          "evalue": "ignored",
          "traceback": [
            "\u001b[0;31m---------------------------------------------------------------------------\u001b[0m",
            "\u001b[0;31mFatalError\u001b[0m                                Traceback (most recent call last)",
            "\u001b[0;32m<ipython-input-6-d73496600efa>\u001b[0m in \u001b[0;36m<module>\u001b[0;34m()\u001b[0m\n\u001b[0;32m----> 1\u001b[0;31m \u001b[0mmt\u001b[0m \u001b[0;34m=\u001b[0m \u001b[0mhl\u001b[0m\u001b[0;34m.\u001b[0m\u001b[0mread_matrix_table\u001b[0m\u001b[0;34m(\u001b[0m\u001b[0;34m\"gs://ukbb-exome-public/300k/results/results.mt\"\u001b[0m\u001b[0;34m)\u001b[0m\u001b[0;34m\u001b[0m\u001b[0;34m\u001b[0m\u001b[0m\n\u001b[0m",
            "\u001b[0;32m<decorator-gen-1466>\u001b[0m in \u001b[0;36mread_matrix_table\u001b[0;34m(path, _intervals, _filter_intervals, _drop_cols, _drop_rows, _n_partitions)\u001b[0m\n",
            "\u001b[0;32m/usr/local/lib/python3.7/dist-packages/hail/typecheck/check.py\u001b[0m in \u001b[0;36mwrapper\u001b[0;34m(__original_func, *args, **kwargs)\u001b[0m\n\u001b[1;32m    575\u001b[0m     \u001b[0;32mdef\u001b[0m \u001b[0mwrapper\u001b[0m\u001b[0;34m(\u001b[0m\u001b[0m__original_func\u001b[0m\u001b[0;34m,\u001b[0m \u001b[0;34m*\u001b[0m\u001b[0margs\u001b[0m\u001b[0;34m,\u001b[0m \u001b[0;34m**\u001b[0m\u001b[0mkwargs\u001b[0m\u001b[0;34m)\u001b[0m\u001b[0;34m:\u001b[0m\u001b[0;34m\u001b[0m\u001b[0;34m\u001b[0m\u001b[0m\n\u001b[1;32m    576\u001b[0m         \u001b[0margs_\u001b[0m\u001b[0;34m,\u001b[0m \u001b[0mkwargs_\u001b[0m \u001b[0;34m=\u001b[0m \u001b[0mcheck_all\u001b[0m\u001b[0;34m(\u001b[0m\u001b[0m__original_func\u001b[0m\u001b[0;34m,\u001b[0m \u001b[0margs\u001b[0m\u001b[0;34m,\u001b[0m \u001b[0mkwargs\u001b[0m\u001b[0;34m,\u001b[0m \u001b[0mcheckers\u001b[0m\u001b[0;34m,\u001b[0m \u001b[0mis_method\u001b[0m\u001b[0;34m=\u001b[0m\u001b[0mis_method\u001b[0m\u001b[0;34m)\u001b[0m\u001b[0;34m\u001b[0m\u001b[0;34m\u001b[0m\u001b[0m\n\u001b[0;32m--> 577\u001b[0;31m         \u001b[0;32mreturn\u001b[0m \u001b[0m__original_func\u001b[0m\u001b[0;34m(\u001b[0m\u001b[0;34m*\u001b[0m\u001b[0margs_\u001b[0m\u001b[0;34m,\u001b[0m \u001b[0;34m**\u001b[0m\u001b[0mkwargs_\u001b[0m\u001b[0;34m)\u001b[0m\u001b[0;34m\u001b[0m\u001b[0;34m\u001b[0m\u001b[0m\n\u001b[0m\u001b[1;32m    578\u001b[0m \u001b[0;34m\u001b[0m\u001b[0m\n\u001b[1;32m    579\u001b[0m     \u001b[0;32mreturn\u001b[0m \u001b[0mwrapper\u001b[0m\u001b[0;34m\u001b[0m\u001b[0;34m\u001b[0m\u001b[0m\n",
            "\u001b[0;32m/usr/local/lib/python3.7/dist-packages/hail/methods/impex.py\u001b[0m in \u001b[0;36mread_matrix_table\u001b[0;34m(path, _intervals, _filter_intervals, _drop_cols, _drop_rows, _n_partitions)\u001b[0m\n\u001b[1;32m   2120\u001b[0m     \u001b[0;34m:\u001b[0m\u001b[0;32mclass\u001b[0m\u001b[0;34m:\u001b[0m\u001b[0;31m`\u001b[0m\u001b[0;34m.\u001b[0m\u001b[0mMatrixTable\u001b[0m\u001b[0;31m`\u001b[0m\u001b[0;34m\u001b[0m\u001b[0;34m\u001b[0m\u001b[0m\n\u001b[1;32m   2121\u001b[0m     \"\"\"\n\u001b[0;32m-> 2122\u001b[0;31m     \u001b[0;32mfor\u001b[0m \u001b[0mrg_config\u001b[0m \u001b[0;32min\u001b[0m \u001b[0mEnv\u001b[0m\u001b[0;34m.\u001b[0m\u001b[0mbackend\u001b[0m\u001b[0;34m(\u001b[0m\u001b[0;34m)\u001b[0m\u001b[0;34m.\u001b[0m\u001b[0mload_references_from_dataset\u001b[0m\u001b[0;34m(\u001b[0m\u001b[0mpath\u001b[0m\u001b[0;34m)\u001b[0m\u001b[0;34m:\u001b[0m\u001b[0;34m\u001b[0m\u001b[0;34m\u001b[0m\u001b[0m\n\u001b[0m\u001b[1;32m   2123\u001b[0m         \u001b[0mhl\u001b[0m\u001b[0;34m.\u001b[0m\u001b[0mReferenceGenome\u001b[0m\u001b[0;34m.\u001b[0m\u001b[0m_from_config\u001b[0m\u001b[0;34m(\u001b[0m\u001b[0mrg_config\u001b[0m\u001b[0;34m)\u001b[0m\u001b[0;34m\u001b[0m\u001b[0;34m\u001b[0m\u001b[0m\n\u001b[1;32m   2124\u001b[0m \u001b[0;34m\u001b[0m\u001b[0m\n",
            "\u001b[0;32m/usr/local/lib/python3.7/dist-packages/hail/backend/spark_backend.py\u001b[0m in \u001b[0;36mload_references_from_dataset\u001b[0;34m(self, path)\u001b[0m\n\u001b[1;32m    326\u001b[0m \u001b[0;34m\u001b[0m\u001b[0m\n\u001b[1;32m    327\u001b[0m     \u001b[0;32mdef\u001b[0m \u001b[0mload_references_from_dataset\u001b[0m\u001b[0;34m(\u001b[0m\u001b[0mself\u001b[0m\u001b[0;34m,\u001b[0m \u001b[0mpath\u001b[0m\u001b[0;34m)\u001b[0m\u001b[0;34m:\u001b[0m\u001b[0;34m\u001b[0m\u001b[0;34m\u001b[0m\u001b[0m\n\u001b[0;32m--> 328\u001b[0;31m         \u001b[0;32mreturn\u001b[0m \u001b[0mjson\u001b[0m\u001b[0;34m.\u001b[0m\u001b[0mloads\u001b[0m\u001b[0;34m(\u001b[0m\u001b[0mEnv\u001b[0m\u001b[0;34m.\u001b[0m\u001b[0mhail\u001b[0m\u001b[0;34m(\u001b[0m\u001b[0;34m)\u001b[0m\u001b[0;34m.\u001b[0m\u001b[0mvariant\u001b[0m\u001b[0;34m.\u001b[0m\u001b[0mReferenceGenome\u001b[0m\u001b[0;34m.\u001b[0m\u001b[0mfromHailDataset\u001b[0m\u001b[0;34m(\u001b[0m\u001b[0mself\u001b[0m\u001b[0;34m.\u001b[0m\u001b[0mfs\u001b[0m\u001b[0;34m.\u001b[0m\u001b[0m_jfs\u001b[0m\u001b[0;34m,\u001b[0m \u001b[0mpath\u001b[0m\u001b[0;34m)\u001b[0m\u001b[0;34m)\u001b[0m\u001b[0;34m\u001b[0m\u001b[0;34m\u001b[0m\u001b[0m\n\u001b[0m\u001b[1;32m    329\u001b[0m \u001b[0;34m\u001b[0m\u001b[0m\n\u001b[1;32m    330\u001b[0m     \u001b[0;32mdef\u001b[0m \u001b[0mfrom_fasta_file\u001b[0m\u001b[0;34m(\u001b[0m\u001b[0mself\u001b[0m\u001b[0;34m,\u001b[0m \u001b[0mname\u001b[0m\u001b[0;34m,\u001b[0m \u001b[0mfasta_file\u001b[0m\u001b[0;34m,\u001b[0m \u001b[0mindex_file\u001b[0m\u001b[0;34m,\u001b[0m \u001b[0mx_contigs\u001b[0m\u001b[0;34m,\u001b[0m \u001b[0my_contigs\u001b[0m\u001b[0;34m,\u001b[0m \u001b[0mmt_contigs\u001b[0m\u001b[0;34m,\u001b[0m \u001b[0mpar\u001b[0m\u001b[0;34m)\u001b[0m\u001b[0;34m:\u001b[0m\u001b[0;34m\u001b[0m\u001b[0;34m\u001b[0m\u001b[0m\n",
            "\u001b[0;32m/usr/local/lib/python3.7/dist-packages/py4j/java_gateway.py\u001b[0m in \u001b[0;36m__call__\u001b[0;34m(self, *args)\u001b[0m\n\u001b[1;32m   1303\u001b[0m         \u001b[0manswer\u001b[0m \u001b[0;34m=\u001b[0m \u001b[0mself\u001b[0m\u001b[0;34m.\u001b[0m\u001b[0mgateway_client\u001b[0m\u001b[0;34m.\u001b[0m\u001b[0msend_command\u001b[0m\u001b[0;34m(\u001b[0m\u001b[0mcommand\u001b[0m\u001b[0;34m)\u001b[0m\u001b[0;34m\u001b[0m\u001b[0;34m\u001b[0m\u001b[0m\n\u001b[1;32m   1304\u001b[0m         return_value = get_return_value(\n\u001b[0;32m-> 1305\u001b[0;31m             answer, self.gateway_client, self.target_id, self.name)\n\u001b[0m\u001b[1;32m   1306\u001b[0m \u001b[0;34m\u001b[0m\u001b[0m\n\u001b[1;32m   1307\u001b[0m         \u001b[0;32mfor\u001b[0m \u001b[0mtemp_arg\u001b[0m \u001b[0;32min\u001b[0m \u001b[0mtemp_args\u001b[0m\u001b[0;34m:\u001b[0m\u001b[0;34m\u001b[0m\u001b[0;34m\u001b[0m\u001b[0m\n",
            "\u001b[0;32m/usr/local/lib/python3.7/dist-packages/hail/backend/py4j_backend.py\u001b[0m in \u001b[0;36mdeco\u001b[0;34m(*args, **kwargs)\u001b[0m\n\u001b[1;32m     29\u001b[0m                 raise FatalError('%s\\n\\nJava stack trace:\\n%s\\n'\n\u001b[1;32m     30\u001b[0m                                  \u001b[0;34m'Hail version: %s\\n'\u001b[0m\u001b[0;34m\u001b[0m\u001b[0;34m\u001b[0m\u001b[0m\n\u001b[0;32m---> 31\u001b[0;31m                                  'Error summary: %s' % (deepest, full, hail.__version__, deepest), error_id) from None\n\u001b[0m\u001b[1;32m     32\u001b[0m         \u001b[0;32mexcept\u001b[0m \u001b[0mpyspark\u001b[0m\u001b[0;34m.\u001b[0m\u001b[0msql\u001b[0m\u001b[0;34m.\u001b[0m\u001b[0mutils\u001b[0m\u001b[0;34m.\u001b[0m\u001b[0mCapturedException\u001b[0m \u001b[0;32mas\u001b[0m \u001b[0me\u001b[0m\u001b[0;34m:\u001b[0m\u001b[0;34m\u001b[0m\u001b[0;34m\u001b[0m\u001b[0m\n\u001b[1;32m     33\u001b[0m             raise FatalError('%s\\n\\nJava stack trace:\\n%s\\n'\n",
            "\u001b[0;31mFatalError\u001b[0m: SocketTimeoutException: connect timed out\n\nJava stack trace:\njava.io.IOException: Error getting access token from metadata server at: http://169.254.169.254/computeMetadata/v1/instance/service-accounts/default/token\n\tat com.google.cloud.hadoop.util.CredentialFactory.getCredentialFromMetadataServiceAccount(CredentialFactory.java:250)\n\tat com.google.cloud.hadoop.util.CredentialFactory.getCredential(CredentialFactory.java:389)\n\tat com.google.cloud.hadoop.fs.gcs.GoogleHadoopFileSystemBase.getCredential(GoogleHadoopFileSystemBase.java:1341)\n\tat com.google.cloud.hadoop.fs.gcs.GoogleHadoopFileSystemBase.createGcsFs(GoogleHadoopFileSystemBase.java:1497)\n\tat com.google.cloud.hadoop.fs.gcs.GoogleHadoopFileSystemBase.configure(GoogleHadoopFileSystemBase.java:1479)\n\tat com.google.cloud.hadoop.fs.gcs.GoogleHadoopFileSystemBase.initialize(GoogleHadoopFileSystemBase.java:467)\n\tat org.apache.hadoop.fs.FileSystem.createFileSystem(FileSystem.java:3303)\n\tat org.apache.hadoop.fs.FileSystem.access$200(FileSystem.java:124)\n\tat org.apache.hadoop.fs.FileSystem$Cache.getInternal(FileSystem.java:3352)\n\tat org.apache.hadoop.fs.FileSystem$Cache.get(FileSystem.java:3320)\n\tat org.apache.hadoop.fs.FileSystem.get(FileSystem.java:479)\n\tat org.apache.hadoop.fs.Path.getFileSystem(Path.java:361)\n\tat is.hail.io.fs.HadoopFS.fileStatus(HadoopFS.scala:164)\n\tat is.hail.io.fs.FS.isDir(FS.scala:175)\n\tat is.hail.io.fs.FS.isDir$(FS.scala:173)\n\tat is.hail.io.fs.HadoopFS.isDir(HadoopFS.scala:70)\n\tat is.hail.expr.ir.RelationalSpec$.readMetadata(AbstractMatrixTableSpec.scala:30)\n\tat is.hail.expr.ir.RelationalSpec$.readReferences(AbstractMatrixTableSpec.scala:73)\n\tat is.hail.variant.ReferenceGenome$.fromHailDataset(ReferenceGenome.scala:581)\n\tat is.hail.variant.ReferenceGenome.fromHailDataset(ReferenceGenome.scala)\n\tat java.base/jdk.internal.reflect.NativeMethodAccessorImpl.invoke0(Native Method)\n\tat java.base/jdk.internal.reflect.NativeMethodAccessorImpl.invoke(NativeMethodAccessorImpl.java:62)\n\tat java.base/jdk.internal.reflect.DelegatingMethodAccessorImpl.invoke(DelegatingMethodAccessorImpl.java:43)\n\tat java.base/java.lang.reflect.Method.invoke(Method.java:566)\n\tat py4j.reflection.MethodInvoker.invoke(MethodInvoker.java:244)\n\tat py4j.reflection.ReflectionEngine.invoke(ReflectionEngine.java:357)\n\tat py4j.Gateway.invoke(Gateway.java:282)\n\tat py4j.commands.AbstractCommand.invokeMethod(AbstractCommand.java:132)\n\tat py4j.commands.CallCommand.execute(CallCommand.java:79)\n\tat py4j.GatewayConnection.run(GatewayConnection.java:238)\n\tat java.base/java.lang.Thread.run(Thread.java:829)\n\njava.net.SocketTimeoutException: connect timed out\n\tat java.base/java.net.PlainSocketImpl.socketConnect(Native Method)\n\tat java.base/java.net.AbstractPlainSocketImpl.doConnect(AbstractPlainSocketImpl.java:399)\n\tat java.base/java.net.AbstractPlainSocketImpl.connectToAddress(AbstractPlainSocketImpl.java:242)\n\tat java.base/java.net.AbstractPlainSocketImpl.connect(AbstractPlainSocketImpl.java:224)\n\tat java.base/java.net.Socket.connect(Socket.java:609)\n\tat java.base/sun.net.NetworkClient.doConnect(NetworkClient.java:177)\n\tat java.base/sun.net.www.http.HttpClient.openServer(HttpClient.java:474)\n\tat java.base/sun.net.www.http.HttpClient.openServer(HttpClient.java:569)\n\tat java.base/sun.net.www.http.HttpClient.<init>(HttpClient.java:242)\n\tat java.base/sun.net.www.http.HttpClient.New(HttpClient.java:341)\n\tat java.base/sun.net.www.http.HttpClient.New(HttpClient.java:362)\n\tat java.base/sun.net.www.protocol.http.HttpURLConnection.getNewHttpClient(HttpURLConnection.java:1253)\n\tat java.base/sun.net.www.protocol.http.HttpURLConnection.plainConnect0(HttpURLConnection.java:1187)\n\tat java.base/sun.net.www.protocol.http.HttpURLConnection.plainConnect(HttpURLConnection.java:1081)\n\tat java.base/sun.net.www.protocol.http.HttpURLConnection.connect(HttpURLConnection.java:1015)\n\tat com.google.api.client.http.javanet.NetHttpRequest.execute(NetHttpRequest.java:148)\n\tat com.google.api.client.http.javanet.NetHttpRequest.execute(NetHttpRequest.java:84)\n\tat com.google.api.client.http.HttpRequest.execute(HttpRequest.java:1012)\n\tat com.google.cloud.hadoop.util.CredentialFactory$ComputeCredentialWithRetry.executeRefreshToken(CredentialFactory.java:192)\n\tat com.google.api.client.auth.oauth2.Credential.refreshToken(Credential.java:494)\n\tat com.google.cloud.hadoop.util.CredentialFactory.getCredentialFromMetadataServiceAccount(CredentialFactory.java:247)\n\tat com.google.cloud.hadoop.util.CredentialFactory.getCredential(CredentialFactory.java:389)\n\tat com.google.cloud.hadoop.fs.gcs.GoogleHadoopFileSystemBase.getCredential(GoogleHadoopFileSystemBase.java:1341)\n\tat com.google.cloud.hadoop.fs.gcs.GoogleHadoopFileSystemBase.createGcsFs(GoogleHadoopFileSystemBase.java:1497)\n\tat com.google.cloud.hadoop.fs.gcs.GoogleHadoopFileSystemBase.configure(GoogleHadoopFileSystemBase.java:1479)\n\tat com.google.cloud.hadoop.fs.gcs.GoogleHadoopFileSystemBase.initialize(GoogleHadoopFileSystemBase.java:467)\n\tat org.apache.hadoop.fs.FileSystem.createFileSystem(FileSystem.java:3303)\n\tat org.apache.hadoop.fs.FileSystem.access$200(FileSystem.java:124)\n\tat org.apache.hadoop.fs.FileSystem$Cache.getInternal(FileSystem.java:3352)\n\tat org.apache.hadoop.fs.FileSystem$Cache.get(FileSystem.java:3320)\n\tat org.apache.hadoop.fs.FileSystem.get(FileSystem.java:479)\n\tat org.apache.hadoop.fs.Path.getFileSystem(Path.java:361)\n\tat is.hail.io.fs.HadoopFS.fileStatus(HadoopFS.scala:164)\n\tat is.hail.io.fs.FS.isDir(FS.scala:175)\n\tat is.hail.io.fs.FS.isDir$(FS.scala:173)\n\tat is.hail.io.fs.HadoopFS.isDir(HadoopFS.scala:70)\n\tat is.hail.expr.ir.RelationalSpec$.readMetadata(AbstractMatrixTableSpec.scala:30)\n\tat is.hail.expr.ir.RelationalSpec$.readReferences(AbstractMatrixTableSpec.scala:73)\n\tat is.hail.variant.ReferenceGenome$.fromHailDataset(ReferenceGenome.scala:581)\n\tat is.hail.variant.ReferenceGenome.fromHailDataset(ReferenceGenome.scala)\n\tat java.base/jdk.internal.reflect.NativeMethodAccessorImpl.invoke0(Native Method)\n\tat java.base/jdk.internal.reflect.NativeMethodAccessorImpl.invoke(NativeMethodAccessorImpl.java:62)\n\tat java.base/jdk.internal.reflect.DelegatingMethodAccessorImpl.invoke(DelegatingMethodAccessorImpl.java:43)\n\tat java.base/java.lang.reflect.Method.invoke(Method.java:566)\n\tat py4j.reflection.MethodInvoker.invoke(MethodInvoker.java:244)\n\tat py4j.reflection.ReflectionEngine.invoke(ReflectionEngine.java:357)\n\tat py4j.Gateway.invoke(Gateway.java:282)\n\tat py4j.commands.AbstractCommand.invokeMethod(AbstractCommand.java:132)\n\tat py4j.commands.CallCommand.execute(CallCommand.java:79)\n\tat py4j.GatewayConnection.run(GatewayConnection.java:238)\n\tat java.base/java.lang.Thread.run(Thread.java:829)\n\n\n\n\nHail version: 0.2.81-edeb70bc789c\nError summary: SocketTimeoutException: connect timed out"
          ]
        }
      ]
    },
    {
      "cell_type": "code",
      "metadata": {
        "id": "Im2PU7i06N37"
      },
      "source": [
        "# Initialize SparkGOR session\n",
        "# If you are using the GOR session with options, you can specify other folders for the config and project directories.\n",
        "\n",
        "import os\n",
        "sgs = spark.createGorSession()\n",
        "#sgs = spark.createGorSessionWOptions(os.path.expanduser(\"~/gorproject\"),\"/tmp\",\"config/gor_config.txt\",\"config/gor_standard_aliases.txt\")"
      ],
      "execution_count": null,
      "outputs": []
    },
    {
      "cell_type": "code",
      "source": [
        "sgs.pydataframe(\"gorrows -p chr1:1-10 | calc x pos+1\").show()"
      ],
      "metadata": {
        "id": "ceBhcfiBywBV"
      },
      "execution_count": null,
      "outputs": []
    },
    {
      "cell_type": "markdown",
      "metadata": {
        "id": "NnuzDSHYBd5S"
      },
      "source": [
        "# Examples from the SparkGOR paper\n",
        "\n",
        "The following section runs examples from the [SparkGOR paper](https://arxiv.org/abs/2009.00061), which can be accessed at: https://arxiv.org/abs/2009.00061"
      ]
    },
    {
      "cell_type": "code",
      "metadata": {
        "id": "Yl1XSULdVo39",
        "outputId": "5b45a33f-f5dd-408d-aad9-e12b70a308e1",
        "colab": {
          "base_uri": "https://localhost:8080/",
          "height": 419
        }
      },
      "source": [
        "# From Examples 2,3,4\n",
        "\n",
        "ordbsnp = sgs.pydataframe(\"select * from <(pgor ref/dbsnp/dbsnp.gorz | top 100000 | split rsIDs | rename rsIDs rsID) order by rsID\")\n",
        "ordbsnp.write.mode(\"overwrite\").save(\"dbsnp.rsOrd.parquet\")\n",
        "sgs.setCreate(\"#myordrssnps#\",\"select * from dbsnp.rsOrd.parquet where rsID like 'rs222%' order by chrom, pos\")\n",
        "\n",
        "ss = sgs.pydataframe(\"create #myphewas# = pgor [#myordrssnps#] | varjoin -l -r phecode_gwas/Phecode_adjust_f2.gord; nor [#myphewas#] | sort -c pval_mm:n,rsID\")\n",
        "ss.toPandas()"
      ],
      "execution_count": null,
      "outputs": [
        {
          "output_type": "execute_result",
          "data": {
            "text/plain": [
              "    Chrom      POS reference allele       rsID pVal_mm OR_mm CASE_info GC QQ  \\\n",
              "0    chrY  4807709         T      C  rs2220163                                 \n",
              "1    chrY  4811710         A      G  rs2220164                                 \n",
              "2    chrY  4812194         T      C  rs2220165                                 \n",
              "3    chrY  3518194         A      C  rs2220353                                 \n",
              "4    chrY  3518396         G      C  rs2220354                                 \n",
              "..    ...      ...       ...    ...        ...     ...   ...       ... .. ..   \n",
              "64  chr12   420072         A      G  rs2229350                                 \n",
              "65  chr12   406292         G      A  rs2229351                                 \n",
              "66  chr12   463248         G      A  rs2229352                                 \n",
              "67  chr12   463248         G      C  rs2229352                                 \n",
              "68  chr12   416982         G      C  rs2229353                                 \n",
              "\n",
              "   BONF HOLM Source  \n",
              "0                    \n",
              "1                    \n",
              "2                    \n",
              "3                    \n",
              "4                    \n",
              "..  ...  ...    ...  \n",
              "64                   \n",
              "65                   \n",
              "66                   \n",
              "67                   \n",
              "68                   \n",
              "\n",
              "[69 rows x 13 columns]"
            ],
            "text/html": [
              "<div>\n",
              "<style scoped>\n",
              "    .dataframe tbody tr th:only-of-type {\n",
              "        vertical-align: middle;\n",
              "    }\n",
              "\n",
              "    .dataframe tbody tr th {\n",
              "        vertical-align: top;\n",
              "    }\n",
              "\n",
              "    .dataframe thead th {\n",
              "        text-align: right;\n",
              "    }\n",
              "</style>\n",
              "<table border=\"1\" class=\"dataframe\">\n",
              "  <thead>\n",
              "    <tr style=\"text-align: right;\">\n",
              "      <th></th>\n",
              "      <th>Chrom</th>\n",
              "      <th>POS</th>\n",
              "      <th>reference</th>\n",
              "      <th>allele</th>\n",
              "      <th>rsID</th>\n",
              "      <th>pVal_mm</th>\n",
              "      <th>OR_mm</th>\n",
              "      <th>CASE_info</th>\n",
              "      <th>GC</th>\n",
              "      <th>QQ</th>\n",
              "      <th>BONF</th>\n",
              "      <th>HOLM</th>\n",
              "      <th>Source</th>\n",
              "    </tr>\n",
              "  </thead>\n",
              "  <tbody>\n",
              "    <tr>\n",
              "      <th>0</th>\n",
              "      <td>chrY</td>\n",
              "      <td>4807709</td>\n",
              "      <td>T</td>\n",
              "      <td>C</td>\n",
              "      <td>rs2220163</td>\n",
              "      <td></td>\n",
              "      <td></td>\n",
              "      <td></td>\n",
              "      <td></td>\n",
              "      <td></td>\n",
              "      <td></td>\n",
              "      <td></td>\n",
              "      <td></td>\n",
              "    </tr>\n",
              "    <tr>\n",
              "      <th>1</th>\n",
              "      <td>chrY</td>\n",
              "      <td>4811710</td>\n",
              "      <td>A</td>\n",
              "      <td>G</td>\n",
              "      <td>rs2220164</td>\n",
              "      <td></td>\n",
              "      <td></td>\n",
              "      <td></td>\n",
              "      <td></td>\n",
              "      <td></td>\n",
              "      <td></td>\n",
              "      <td></td>\n",
              "      <td></td>\n",
              "    </tr>\n",
              "    <tr>\n",
              "      <th>2</th>\n",
              "      <td>chrY</td>\n",
              "      <td>4812194</td>\n",
              "      <td>T</td>\n",
              "      <td>C</td>\n",
              "      <td>rs2220165</td>\n",
              "      <td></td>\n",
              "      <td></td>\n",
              "      <td></td>\n",
              "      <td></td>\n",
              "      <td></td>\n",
              "      <td></td>\n",
              "      <td></td>\n",
              "      <td></td>\n",
              "    </tr>\n",
              "    <tr>\n",
              "      <th>3</th>\n",
              "      <td>chrY</td>\n",
              "      <td>3518194</td>\n",
              "      <td>A</td>\n",
              "      <td>C</td>\n",
              "      <td>rs2220353</td>\n",
              "      <td></td>\n",
              "      <td></td>\n",
              "      <td></td>\n",
              "      <td></td>\n",
              "      <td></td>\n",
              "      <td></td>\n",
              "      <td></td>\n",
              "      <td></td>\n",
              "    </tr>\n",
              "    <tr>\n",
              "      <th>4</th>\n",
              "      <td>chrY</td>\n",
              "      <td>3518396</td>\n",
              "      <td>G</td>\n",
              "      <td>C</td>\n",
              "      <td>rs2220354</td>\n",
              "      <td></td>\n",
              "      <td></td>\n",
              "      <td></td>\n",
              "      <td></td>\n",
              "      <td></td>\n",
              "      <td></td>\n",
              "      <td></td>\n",
              "      <td></td>\n",
              "    </tr>\n",
              "    <tr>\n",
              "      <th>...</th>\n",
              "      <td>...</td>\n",
              "      <td>...</td>\n",
              "      <td>...</td>\n",
              "      <td>...</td>\n",
              "      <td>...</td>\n",
              "      <td>...</td>\n",
              "      <td>...</td>\n",
              "      <td>...</td>\n",
              "      <td>...</td>\n",
              "      <td>...</td>\n",
              "      <td>...</td>\n",
              "      <td>...</td>\n",
              "      <td>...</td>\n",
              "    </tr>\n",
              "    <tr>\n",
              "      <th>64</th>\n",
              "      <td>chr12</td>\n",
              "      <td>420072</td>\n",
              "      <td>A</td>\n",
              "      <td>G</td>\n",
              "      <td>rs2229350</td>\n",
              "      <td></td>\n",
              "      <td></td>\n",
              "      <td></td>\n",
              "      <td></td>\n",
              "      <td></td>\n",
              "      <td></td>\n",
              "      <td></td>\n",
              "      <td></td>\n",
              "    </tr>\n",
              "    <tr>\n",
              "      <th>65</th>\n",
              "      <td>chr12</td>\n",
              "      <td>406292</td>\n",
              "      <td>G</td>\n",
              "      <td>A</td>\n",
              "      <td>rs2229351</td>\n",
              "      <td></td>\n",
              "      <td></td>\n",
              "      <td></td>\n",
              "      <td></td>\n",
              "      <td></td>\n",
              "      <td></td>\n",
              "      <td></td>\n",
              "      <td></td>\n",
              "    </tr>\n",
              "    <tr>\n",
              "      <th>66</th>\n",
              "      <td>chr12</td>\n",
              "      <td>463248</td>\n",
              "      <td>G</td>\n",
              "      <td>A</td>\n",
              "      <td>rs2229352</td>\n",
              "      <td></td>\n",
              "      <td></td>\n",
              "      <td></td>\n",
              "      <td></td>\n",
              "      <td></td>\n",
              "      <td></td>\n",
              "      <td></td>\n",
              "      <td></td>\n",
              "    </tr>\n",
              "    <tr>\n",
              "      <th>67</th>\n",
              "      <td>chr12</td>\n",
              "      <td>463248</td>\n",
              "      <td>G</td>\n",
              "      <td>C</td>\n",
              "      <td>rs2229352</td>\n",
              "      <td></td>\n",
              "      <td></td>\n",
              "      <td></td>\n",
              "      <td></td>\n",
              "      <td></td>\n",
              "      <td></td>\n",
              "      <td></td>\n",
              "      <td></td>\n",
              "    </tr>\n",
              "    <tr>\n",
              "      <th>68</th>\n",
              "      <td>chr12</td>\n",
              "      <td>416982</td>\n",
              "      <td>G</td>\n",
              "      <td>C</td>\n",
              "      <td>rs2229353</td>\n",
              "      <td></td>\n",
              "      <td></td>\n",
              "      <td></td>\n",
              "      <td></td>\n",
              "      <td></td>\n",
              "      <td></td>\n",
              "      <td></td>\n",
              "      <td></td>\n",
              "    </tr>\n",
              "  </tbody>\n",
              "</table>\n",
              "<p>69 rows × 13 columns</p>\n",
              "</div>"
            ]
          },
          "metadata": {
            "tags": []
          },
          "execution_count": 4
        }
      ]
    },
    {
      "cell_type": "code",
      "metadata": {
        "id": "-nMllJir4TqY",
        "outputId": "6c692c60-a665-408c-d80a-17520a4d7bf0",
        "colab": {
          "base_uri": "https://localhost:8080/",
          "height": 142
        }
      },
      "source": [
        "# Example 7\n",
        "import pandas as pd\n",
        "myPandasGenes = pd.DataFrame([\"BRCA1\",\"BRCA2\"],columns=[\"gene\"])\n",
        "myGenes = spark.createDataFrame(myPandasGenes)\n",
        "myGenes.createOrReplaceTempView(\"myGenes\")\n",
        "sgs.setCreateAndDefs(\"create #mygenes# = select gene from myGenes; def #genes# = ref/genes.gorz; def #exons# = ref/refgenes/refgenes_exons.gorz; def #dbsnp# = ref/dbsnp/dbsnp.gorz;\")\n",
        "sgs.setCreate(\"#myexons#\", \"gor #exons# | inset -c gene_symbol [#mygenes#]\")\n",
        "exonSnps = sgs.pydataframe(\"pgor [#myexons#] | join -segsnp -ir #dbsnp# | join -snpseg -r #genes#\")\n",
        "snpCount = exonSnps.groupBy(\"gene_symbol\").count()\n",
        "snpCount.toPandas()"
      ],
      "execution_count": null,
      "outputs": [
        {
          "output_type": "execute_result",
          "data": {
            "text/plain": [
              "  gene_symbol  count\n",
              "0     RPL21P4     17\n",
              "1       BRCA1   5596\n",
              "2       BRCA2   8194"
            ],
            "text/html": [
              "<div>\n",
              "<style scoped>\n",
              "    .dataframe tbody tr th:only-of-type {\n",
              "        vertical-align: middle;\n",
              "    }\n",
              "\n",
              "    .dataframe tbody tr th {\n",
              "        vertical-align: top;\n",
              "    }\n",
              "\n",
              "    .dataframe thead th {\n",
              "        text-align: right;\n",
              "    }\n",
              "</style>\n",
              "<table border=\"1\" class=\"dataframe\">\n",
              "  <thead>\n",
              "    <tr style=\"text-align: right;\">\n",
              "      <th></th>\n",
              "      <th>gene_symbol</th>\n",
              "      <th>count</th>\n",
              "    </tr>\n",
              "  </thead>\n",
              "  <tbody>\n",
              "    <tr>\n",
              "      <th>0</th>\n",
              "      <td>RPL21P4</td>\n",
              "      <td>17</td>\n",
              "    </tr>\n",
              "    <tr>\n",
              "      <th>1</th>\n",
              "      <td>BRCA1</td>\n",
              "      <td>5596</td>\n",
              "    </tr>\n",
              "    <tr>\n",
              "      <th>2</th>\n",
              "      <td>BRCA2</td>\n",
              "      <td>8194</td>\n",
              "    </tr>\n",
              "  </tbody>\n",
              "</table>\n",
              "</div>"
            ]
          },
          "metadata": {
            "tags": []
          },
          "execution_count": 5
        }
      ]
    },
    {
      "cell_type": "code",
      "metadata": {
        "id": "65qL2Oqw4aC-",
        "outputId": "db8d79d5-0b6c-4780-be01-91d72c9b722a",
        "colab": {
          "base_uri": "https://localhost:8080/",
          "height": 142
        }
      },
      "source": [
        "# Example 8\n",
        "snpCount2 = sgs.pydataframe(\"select count(*) from <(pgor [#myexons#] | join -segsnp -ir #dbsnp# | join -snpseg -r #genes#) group by gene_symbol\")\n",
        "snpCount2.toPandas()"
      ],
      "execution_count": null,
      "outputs": [
        {
          "output_type": "execute_result",
          "data": {
            "text/plain": [
              "   count(1)\n",
              "0        17\n",
              "1      5596\n",
              "2      8194"
            ],
            "text/html": [
              "<div>\n",
              "<style scoped>\n",
              "    .dataframe tbody tr th:only-of-type {\n",
              "        vertical-align: middle;\n",
              "    }\n",
              "\n",
              "    .dataframe tbody tr th {\n",
              "        vertical-align: top;\n",
              "    }\n",
              "\n",
              "    .dataframe thead th {\n",
              "        text-align: right;\n",
              "    }\n",
              "</style>\n",
              "<table border=\"1\" class=\"dataframe\">\n",
              "  <thead>\n",
              "    <tr style=\"text-align: right;\">\n",
              "      <th></th>\n",
              "      <th>count(1)</th>\n",
              "    </tr>\n",
              "  </thead>\n",
              "  <tbody>\n",
              "    <tr>\n",
              "      <th>0</th>\n",
              "      <td>17</td>\n",
              "    </tr>\n",
              "    <tr>\n",
              "      <th>1</th>\n",
              "      <td>5596</td>\n",
              "    </tr>\n",
              "    <tr>\n",
              "      <th>2</th>\n",
              "      <td>8194</td>\n",
              "    </tr>\n",
              "  </tbody>\n",
              "</table>\n",
              "</div>"
            ]
          },
          "metadata": {
            "tags": []
          },
          "execution_count": 6
        }
      ]
    },
    {
      "cell_type": "code",
      "metadata": {
        "id": "Ey9vhU1n4cAS",
        "outputId": "98c6dc0e-bdb0-4b68-dfbe-ac8c141a2f3f",
        "colab": {
          "base_uri": "https://localhost:8080/",
          "height": 419
        }
      },
      "source": [
        "# Create parquet file from dbsnp.gorz\n",
        "dbsnpGorz = spark.read.format(\"gorsat.spark.GorDataSource\").load(\"ref/dbsnp/dbsnp.gorz\").limit(1001)\n",
        "#dbsnpGorz = sgs.pydataframe(\"select * from ref/dbsnp/dbsnp.gorz\").limit(1000)\n",
        "dbsnpGorz.write.mode(\"overwrite\").save(\"dbsnp.parquet\")\n",
        "dbsnpGorz.toPandas()"
      ],
      "execution_count": null,
      "outputs": [
        {
          "output_type": "execute_result",
          "data": {
            "text/plain": [
              "     Chrom    POS reference allele         rsIDs\n",
              "0     chr1  10020        AA      A   rs775809821\n",
              "1     chr1  10039         A      C   rs978760828\n",
              "2     chr1  10043         T      A  rs1008829651\n",
              "3     chr1  10051         A      G  rs1052373574\n",
              "4     chr1  10054         C     CC  rs1326880612\n",
              "...    ...    ...       ...    ...           ...\n",
              "996   chr1  13505         C      A  rs1336834113\n",
              "997   chr1  13507         G      A  rs1241683108\n",
              "998   chr1  13508         T      C     rs4951868\n",
              "999   chr1  13510         C      A  rs1283563088\n",
              "1000  chr1  13513         T      C  rs1445362613\n",
              "\n",
              "[1001 rows x 5 columns]"
            ],
            "text/html": [
              "<div>\n",
              "<style scoped>\n",
              "    .dataframe tbody tr th:only-of-type {\n",
              "        vertical-align: middle;\n",
              "    }\n",
              "\n",
              "    .dataframe tbody tr th {\n",
              "        vertical-align: top;\n",
              "    }\n",
              "\n",
              "    .dataframe thead th {\n",
              "        text-align: right;\n",
              "    }\n",
              "</style>\n",
              "<table border=\"1\" class=\"dataframe\">\n",
              "  <thead>\n",
              "    <tr style=\"text-align: right;\">\n",
              "      <th></th>\n",
              "      <th>Chrom</th>\n",
              "      <th>POS</th>\n",
              "      <th>reference</th>\n",
              "      <th>allele</th>\n",
              "      <th>rsIDs</th>\n",
              "    </tr>\n",
              "  </thead>\n",
              "  <tbody>\n",
              "    <tr>\n",
              "      <th>0</th>\n",
              "      <td>chr1</td>\n",
              "      <td>10020</td>\n",
              "      <td>AA</td>\n",
              "      <td>A</td>\n",
              "      <td>rs775809821</td>\n",
              "    </tr>\n",
              "    <tr>\n",
              "      <th>1</th>\n",
              "      <td>chr1</td>\n",
              "      <td>10039</td>\n",
              "      <td>A</td>\n",
              "      <td>C</td>\n",
              "      <td>rs978760828</td>\n",
              "    </tr>\n",
              "    <tr>\n",
              "      <th>2</th>\n",
              "      <td>chr1</td>\n",
              "      <td>10043</td>\n",
              "      <td>T</td>\n",
              "      <td>A</td>\n",
              "      <td>rs1008829651</td>\n",
              "    </tr>\n",
              "    <tr>\n",
              "      <th>3</th>\n",
              "      <td>chr1</td>\n",
              "      <td>10051</td>\n",
              "      <td>A</td>\n",
              "      <td>G</td>\n",
              "      <td>rs1052373574</td>\n",
              "    </tr>\n",
              "    <tr>\n",
              "      <th>4</th>\n",
              "      <td>chr1</td>\n",
              "      <td>10054</td>\n",
              "      <td>C</td>\n",
              "      <td>CC</td>\n",
              "      <td>rs1326880612</td>\n",
              "    </tr>\n",
              "    <tr>\n",
              "      <th>...</th>\n",
              "      <td>...</td>\n",
              "      <td>...</td>\n",
              "      <td>...</td>\n",
              "      <td>...</td>\n",
              "      <td>...</td>\n",
              "    </tr>\n",
              "    <tr>\n",
              "      <th>996</th>\n",
              "      <td>chr1</td>\n",
              "      <td>13505</td>\n",
              "      <td>C</td>\n",
              "      <td>A</td>\n",
              "      <td>rs1336834113</td>\n",
              "    </tr>\n",
              "    <tr>\n",
              "      <th>997</th>\n",
              "      <td>chr1</td>\n",
              "      <td>13507</td>\n",
              "      <td>G</td>\n",
              "      <td>A</td>\n",
              "      <td>rs1241683108</td>\n",
              "    </tr>\n",
              "    <tr>\n",
              "      <th>998</th>\n",
              "      <td>chr1</td>\n",
              "      <td>13508</td>\n",
              "      <td>T</td>\n",
              "      <td>C</td>\n",
              "      <td>rs4951868</td>\n",
              "    </tr>\n",
              "    <tr>\n",
              "      <th>999</th>\n",
              "      <td>chr1</td>\n",
              "      <td>13510</td>\n",
              "      <td>C</td>\n",
              "      <td>A</td>\n",
              "      <td>rs1283563088</td>\n",
              "    </tr>\n",
              "    <tr>\n",
              "      <th>1000</th>\n",
              "      <td>chr1</td>\n",
              "      <td>13513</td>\n",
              "      <td>T</td>\n",
              "      <td>C</td>\n",
              "      <td>rs1445362613</td>\n",
              "    </tr>\n",
              "  </tbody>\n",
              "</table>\n",
              "<p>1001 rows × 5 columns</p>\n",
              "</div>"
            ]
          },
          "metadata": {
            "tags": []
          },
          "execution_count": 7
        }
      ]
    },
    {
      "cell_type": "code",
      "metadata": {
        "id": "hNEuGHVI4eHo",
        "outputId": "4d10ffe9-758b-4a5a-9636-634434fcb2e0",
        "colab": {
          "base_uri": "https://localhost:8080/"
        }
      },
      "source": [
        "# Example how to remove create\n",
        "sgs.removeCreate(\"#myexons#\")"
      ],
      "execution_count": null,
      "outputs": [
        {
          "output_type": "execute_result",
          "data": {
            "text/plain": [
              "'gor #exons# | inset -c gene_symbol [#mygenes#]'"
            ]
          },
          "metadata": {
            "tags": []
          },
          "execution_count": 8
        }
      ]
    },
    {
      "cell_type": "code",
      "metadata": {
        "id": "H99GP0yI4f8i",
        "outputId": "bca20e27-0485-49c4-e87c-f3ece26b3d36",
        "colab": {
          "base_uri": "https://localhost:8080/",
          "height": 419
        }
      },
      "source": [
        "# Example 9\n",
        "dbsnpDf = spark.read.load(\"dbsnp.parquet\")\n",
        "\n",
        "myVars = dbsnpDf.gor(\"calc type = if(len(reference)=len(allele),'Snp','InDel')\")\n",
        "myVars.createOrReplaceTempView(\"myVars\")\n",
        "sgs.setDef(\"#VEP#\",\"phecode_gwas/metadata/vep_single.gorz\")\n",
        "myVarsAnno = sgs.pydataframe(\"select * from myVars order by chrom,pos\")\n",
        "pyVarsAnno = myVarsAnno.gor(\"varnorm -left reference allele | group 1 -gc reference,allele,type -set -sc rsIDs | rename set_rsIDs rsIDs | varjoin -r -l -e 'NA' <(gor #VEP# | select 1-call,max_consequence)\")\n",
        "pyVarsAnno.toPandas()"
      ],
      "execution_count": null,
      "outputs": [
        {
          "output_type": "execute_result",
          "data": {
            "text/plain": [
              "     Chrom    POS reference allele   type         rsIDs max_consequence\n",
              "0     chr1  10020        NA      N  InDel   rs775809821              NA\n",
              "1     chr1  10039         A      C    Snp   rs978760828              NA\n",
              "2     chr1  10043         T      A    Snp  rs1008829651              NA\n",
              "3     chr1  10051         A      G    Snp  rs1052373574              NA\n",
              "4     chr1  10054         N     NC  InDel  rs1326880612              NA\n",
              "...    ...    ...       ...    ...    ...           ...             ...\n",
              "1009  chr1  13505         C      A    Snp  rs1336834113              NA\n",
              "1010  chr1  13507         G      A    Snp  rs1241683108              NA\n",
              "1011  chr1  13508         T      C    Snp     rs4951868              NA\n",
              "1012  chr1  13510         C      A    Snp  rs1283563088              NA\n",
              "1013  chr1  13513         T      C    Snp  rs1445362613              NA\n",
              "\n",
              "[1014 rows x 7 columns]"
            ],
            "text/html": [
              "<div>\n",
              "<style scoped>\n",
              "    .dataframe tbody tr th:only-of-type {\n",
              "        vertical-align: middle;\n",
              "    }\n",
              "\n",
              "    .dataframe tbody tr th {\n",
              "        vertical-align: top;\n",
              "    }\n",
              "\n",
              "    .dataframe thead th {\n",
              "        text-align: right;\n",
              "    }\n",
              "</style>\n",
              "<table border=\"1\" class=\"dataframe\">\n",
              "  <thead>\n",
              "    <tr style=\"text-align: right;\">\n",
              "      <th></th>\n",
              "      <th>Chrom</th>\n",
              "      <th>POS</th>\n",
              "      <th>reference</th>\n",
              "      <th>allele</th>\n",
              "      <th>type</th>\n",
              "      <th>rsIDs</th>\n",
              "      <th>max_consequence</th>\n",
              "    </tr>\n",
              "  </thead>\n",
              "  <tbody>\n",
              "    <tr>\n",
              "      <th>0</th>\n",
              "      <td>chr1</td>\n",
              "      <td>10020</td>\n",
              "      <td>NA</td>\n",
              "      <td>N</td>\n",
              "      <td>InDel</td>\n",
              "      <td>rs775809821</td>\n",
              "      <td>NA</td>\n",
              "    </tr>\n",
              "    <tr>\n",
              "      <th>1</th>\n",
              "      <td>chr1</td>\n",
              "      <td>10039</td>\n",
              "      <td>A</td>\n",
              "      <td>C</td>\n",
              "      <td>Snp</td>\n",
              "      <td>rs978760828</td>\n",
              "      <td>NA</td>\n",
              "    </tr>\n",
              "    <tr>\n",
              "      <th>2</th>\n",
              "      <td>chr1</td>\n",
              "      <td>10043</td>\n",
              "      <td>T</td>\n",
              "      <td>A</td>\n",
              "      <td>Snp</td>\n",
              "      <td>rs1008829651</td>\n",
              "      <td>NA</td>\n",
              "    </tr>\n",
              "    <tr>\n",
              "      <th>3</th>\n",
              "      <td>chr1</td>\n",
              "      <td>10051</td>\n",
              "      <td>A</td>\n",
              "      <td>G</td>\n",
              "      <td>Snp</td>\n",
              "      <td>rs1052373574</td>\n",
              "      <td>NA</td>\n",
              "    </tr>\n",
              "    <tr>\n",
              "      <th>4</th>\n",
              "      <td>chr1</td>\n",
              "      <td>10054</td>\n",
              "      <td>N</td>\n",
              "      <td>NC</td>\n",
              "      <td>InDel</td>\n",
              "      <td>rs1326880612</td>\n",
              "      <td>NA</td>\n",
              "    </tr>\n",
              "    <tr>\n",
              "      <th>...</th>\n",
              "      <td>...</td>\n",
              "      <td>...</td>\n",
              "      <td>...</td>\n",
              "      <td>...</td>\n",
              "      <td>...</td>\n",
              "      <td>...</td>\n",
              "      <td>...</td>\n",
              "    </tr>\n",
              "    <tr>\n",
              "      <th>1009</th>\n",
              "      <td>chr1</td>\n",
              "      <td>13505</td>\n",
              "      <td>C</td>\n",
              "      <td>A</td>\n",
              "      <td>Snp</td>\n",
              "      <td>rs1336834113</td>\n",
              "      <td>NA</td>\n",
              "    </tr>\n",
              "    <tr>\n",
              "      <th>1010</th>\n",
              "      <td>chr1</td>\n",
              "      <td>13507</td>\n",
              "      <td>G</td>\n",
              "      <td>A</td>\n",
              "      <td>Snp</td>\n",
              "      <td>rs1241683108</td>\n",
              "      <td>NA</td>\n",
              "    </tr>\n",
              "    <tr>\n",
              "      <th>1011</th>\n",
              "      <td>chr1</td>\n",
              "      <td>13508</td>\n",
              "      <td>T</td>\n",
              "      <td>C</td>\n",
              "      <td>Snp</td>\n",
              "      <td>rs4951868</td>\n",
              "      <td>NA</td>\n",
              "    </tr>\n",
              "    <tr>\n",
              "      <th>1012</th>\n",
              "      <td>chr1</td>\n",
              "      <td>13510</td>\n",
              "      <td>C</td>\n",
              "      <td>A</td>\n",
              "      <td>Snp</td>\n",
              "      <td>rs1283563088</td>\n",
              "      <td>NA</td>\n",
              "    </tr>\n",
              "    <tr>\n",
              "      <th>1013</th>\n",
              "      <td>chr1</td>\n",
              "      <td>13513</td>\n",
              "      <td>T</td>\n",
              "      <td>C</td>\n",
              "      <td>Snp</td>\n",
              "      <td>rs1445362613</td>\n",
              "      <td>NA</td>\n",
              "    </tr>\n",
              "  </tbody>\n",
              "</table>\n",
              "<p>1014 rows × 7 columns</p>\n",
              "</div>"
            ]
          },
          "metadata": {
            "tags": []
          },
          "execution_count": 9
        }
      ]
    }
  ]
}